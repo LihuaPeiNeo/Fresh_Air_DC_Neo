{
 "cells": [
  {
   "cell_type": "markdown",
   "metadata": {},
   "source": [
    "# Numpy package"
   ]
  },
  {
   "cell_type": "code",
   "execution_count": 1,
   "metadata": {
    "scrolled": true
   },
   "outputs": [
    {
     "name": "stdout",
     "output_type": "stream",
     "text": [
      "['ALLOW_THREADS', 'AxisError', 'BUFSIZE', 'CLIP', 'ComplexWarning', 'DataSource', 'ERR_CALL', 'ERR_DEFAULT', 'ERR_IGNORE', 'ERR_LOG', 'ERR_PRINT', 'ERR_RAISE', 'ERR_WARN', 'FLOATING_POINT_SUPPORT', 'FPE_DIVIDEBYZERO', 'FPE_INVALID', 'FPE_OVERFLOW', 'FPE_UNDERFLOW', 'False_', 'Inf', 'Infinity', 'MAXDIMS', 'MAY_SHARE_BOUNDS', 'MAY_SHARE_EXACT', 'MachAr', 'ModuleDeprecationWarning', 'NAN', 'NINF', 'NZERO', 'NaN', 'PINF', 'PZERO', 'PackageLoader', 'RAISE', 'RankWarning', 'SHIFT_DIVIDEBYZERO', 'SHIFT_INVALID', 'SHIFT_OVERFLOW', 'SHIFT_UNDERFLOW', 'ScalarType', 'Tester', 'TooHardError', 'True_', 'UFUNC_BUFSIZE_DEFAULT', 'UFUNC_PYVALS_NAME', 'VisibleDeprecationWarning', 'WRAP', '_NoValue', '__NUMPY_SETUP__', '__all__', '__builtins__', '__cached__', '__config__', '__doc__', '__file__', '__git_revision__', '__loader__', '__mkl_version__', '__name__', '__package__', '__path__', '__spec__', '__version__', '_distributor_init', '_globals', '_import_tools', '_mat', '_mklinit', '_numpy_tester', 'abs', 'absolute', 'absolute_import', 'add', 'add_docstring', 'add_newdoc', 'add_newdoc_ufunc', 'add_newdocs', 'alen', 'all', 'allclose', 'alltrue', 'amax', 'amin', 'angle', 'any', 'append', 'apply_along_axis', 'apply_over_axes', 'arange', 'arccos', 'arccosh', 'arcsin', 'arcsinh', 'arctan', 'arctan2', 'arctanh', 'argmax', 'argmin', 'argpartition', 'argsort', 'argwhere', 'around', 'array', 'array2string', 'array_equal', 'array_equiv', 'array_repr', 'array_split', 'array_str', 'asanyarray', 'asarray', 'asarray_chkfinite', 'ascontiguousarray', 'asfarray', 'asfortranarray', 'asmatrix', 'asscalar', 'atleast_1d', 'atleast_2d', 'atleast_3d', 'average', 'bartlett', 'base_repr', 'bench', 'binary_repr', 'bincount', 'bitwise_and', 'bitwise_not', 'bitwise_or', 'bitwise_xor', 'blackman', 'block', 'bmat', 'bool', 'bool8', 'bool_', 'broadcast', 'broadcast_arrays', 'broadcast_to', 'busday_count', 'busday_offset', 'busdaycalendar', 'byte', 'byte_bounds', 'bytes0', 'bytes_', 'c_', 'can_cast', 'cast', 'cbrt', 'cdouble', 'ceil', 'cfloat', 'char', 'character', 'chararray', 'choose', 'clip', 'clongdouble', 'clongfloat', 'column_stack', 'common_type', 'compare_chararrays', 'compat', 'complex', 'complex128', 'complex256', 'complex64', 'complex_', 'complexfloating', 'compress', 'concatenate', 'conj', 'conjugate', 'convolve', 'copy', 'copysign', 'copyto', 'core', 'corrcoef', 'correlate', 'cos', 'cosh', 'count_nonzero', 'cov', 'cross', 'csingle', 'ctypeslib', 'cumprod', 'cumproduct', 'cumsum', 'datetime64', 'datetime_as_string', 'datetime_data', 'deg2rad', 'degrees', 'delete', 'deprecate', 'deprecate_with_doc', 'diag', 'diag_indices', 'diag_indices_from', 'diagflat', 'diagonal', 'diff', 'digitize', 'disp', 'divide', 'division', 'divmod', 'dot', 'double', 'dsplit', 'dstack', 'dtype', 'e', 'ediff1d', 'einsum', 'einsum_path', 'emath', 'empty', 'empty_like', 'equal', 'erf', 'errstate', 'euler_gamma', 'exp', 'exp2', 'expand_dims', 'expm1', 'extract', 'eye', 'fabs', 'fastCopyAndTranspose', 'fft', 'fill_diagonal', 'find_common_type', 'finfo', 'fix', 'flatiter', 'flatnonzero', 'flexible', 'flip', 'fliplr', 'flipud', 'float', 'float128', 'float16', 'float32', 'float64', 'float_', 'float_power', 'floating', 'floor', 'floor_divide', 'fmax', 'fmin', 'fmod', 'format_float_positional', 'format_float_scientific', 'format_parser', 'frexp', 'frombuffer', 'fromfile', 'fromfunction', 'fromiter', 'frompyfunc', 'fromregex', 'fromstring', 'full', 'full_like', 'fv', 'generic', 'genfromtxt', 'geomspace', 'get_array_wrap', 'get_include', 'get_printoptions', 'getbufsize', 'geterr', 'geterrcall', 'geterrobj', 'gradient', 'greater', 'greater_equal', 'half', 'hamming', 'hanning', 'heaviside', 'histogram', 'histogram2d', 'histogramdd', 'hsplit', 'hstack', 'hypot', 'i0', 'identity', 'iinfo', 'imag', 'in1d', 'index_exp', 'indices', 'inexact', 'inf', 'info', 'infty', 'inner', 'insert', 'int', 'int0', 'int16', 'int32', 'int64', 'int8', 'int_', 'int_asbuffer', 'intc', 'integer', 'interp', 'intersect1d', 'intp', 'invert', 'ipmt', 'irr', 'is_busday', 'isclose', 'iscomplex', 'iscomplexobj', 'isfinite', 'isfortran', 'isin', 'isinf', 'isnan', 'isnat', 'isneginf', 'isposinf', 'isreal', 'isrealobj', 'isscalar', 'issctype', 'issubclass_', 'issubdtype', 'issubsctype', 'iterable', 'ix_', 'kaiser', 'kron', 'ldexp', 'left_shift', 'less', 'less_equal', 'lexsort', 'lib', 'linalg', 'linspace', 'little_endian', 'load', 'loads', 'loadtxt', 'log', 'log10', 'log1p', 'log2', 'logaddexp', 'logaddexp2', 'logical_and', 'logical_not', 'logical_or', 'logical_xor', 'logspace', 'long', 'longcomplex', 'longdouble', 'longfloat', 'longlong', 'lookfor', 'ma', 'mafromtxt', 'mask_indices', 'mat', 'math', 'matmul', 'matrix', 'matrixlib', 'max', 'maximum', 'maximum_sctype', 'may_share_memory', 'mean', 'median', 'memmap', 'meshgrid', 'mgrid', 'min', 'min_scalar_type', 'minimum', 'mintypecode', 'mirr', 'mod', 'modf', 'moveaxis', 'msort', 'multiply', 'nan', 'nan_to_num', 'nanargmax', 'nanargmin', 'nancumprod', 'nancumsum', 'nanmax', 'nanmean', 'nanmedian', 'nanmin', 'nanpercentile', 'nanprod', 'nanstd', 'nansum', 'nanvar', 'nbytes', 'ndarray', 'ndenumerate', 'ndfromtxt', 'ndim', 'ndindex', 'nditer', 'negative', 'nested_iters', 'newaxis', 'nextafter', 'nonzero', 'not_equal', 'nper', 'npv', 'numarray', 'number', 'obj2sctype', 'object', 'object0', 'object_', 'ogrid', 'oldnumeric', 'ones', 'ones_like', 'os', 'outer', 'packbits', 'pad', 'partition', 'percentile', 'pi', 'piecewise', 'pkgload', 'place', 'pmt', 'poly', 'poly1d', 'polyadd', 'polyder', 'polydiv', 'polyfit', 'polyint', 'polymul', 'polynomial', 'polysub', 'polyval', 'positive', 'power', 'ppmt', 'print_function', 'prod', 'product', 'promote_types', 'ptp', 'put', 'putmask', 'pv', 'r_', 'rad2deg', 'radians', 'random', 'rank', 'rate', 'ravel', 'ravel_multi_index', 'real', 'real_if_close', 'rec', 'recarray', 'recfromcsv', 'recfromtxt', 'reciprocal', 'record', 'remainder', 'repeat', 'require', 'reshape', 'resize', 'result_type', 'right_shift', 'rint', 'roll', 'rollaxis', 'roots', 'rot90', 'round', 'round_', 'row_stack', 's_', 'safe_eval', 'save', 'savetxt', 'savez', 'savez_compressed', 'sctype2char', 'sctypeDict', 'sctypeNA', 'sctypes', 'searchsorted', 'select', 'set_numeric_ops', 'set_printoptions', 'set_string_function', 'setbufsize', 'setdiff1d', 'seterr', 'seterrcall', 'seterrobj', 'setxor1d', 'shape', 'shares_memory', 'short', 'show_config', 'sign', 'signbit', 'signedinteger', 'sin', 'sinc', 'single', 'singlecomplex', 'sinh', 'size', 'sometrue', 'sort', 'sort_complex', 'source', 'spacing', 'split', 'sqrt', 'square', 'squeeze', 'stack', 'std', 'str', 'str0', 'str_', 'string_', 'subtract', 'sum', 'swapaxes', 'sys', 'take', 'tan', 'tanh', 'tensordot', 'test', 'testing', 'tile', 'timedelta64', 'trace', 'tracemalloc_domain', 'transpose', 'trapz', 'tri', 'tril', 'tril_indices', 'tril_indices_from', 'trim_zeros', 'triu', 'triu_indices', 'triu_indices_from', 'true_divide', 'trunc', 'typeDict', 'typeNA', 'typecodes', 'typename', 'ubyte', 'ufunc', 'uint', 'uint0', 'uint16', 'uint32', 'uint64', 'uint8', 'uintc', 'uintp', 'ulonglong', 'unicode', 'unicode_', 'union1d', 'unique', 'unpackbits', 'unravel_index', 'unsignedinteger', 'unwrap', 'ushort', 'vander', 'var', 'vdot', 'vectorize', 'version', 'void', 'void0', 'vsplit', 'vstack', 'warnings', 'where', 'who', 'zeros', 'zeros_like']\n"
     ]
    }
   ],
   "source": [
    "#Numpy!!\n",
    "\n",
    "\"\"\"\n",
    "Numpy is Numerical Python:\n",
    " - a powerful N-dimensional array object\n",
    " - sophisticated (broadcasting) functions\n",
    " - tools for integrating C/C++ and Fortran code\n",
    " - useful linear algebra, Fourier transform, and random number capabilities\n",
    "\"\"\"\n",
    "\n",
    "import numpy as np #Y ou will typically see numpy imported as np\n",
    "\n",
    "print(dir(np)) # There is a lot here\n",
    "\n"
   ]
  },
  {
   "cell_type": "markdown",
   "metadata": {},
   "source": [
    "## Numpy arrays - primary data format\n",
    "Numpy arrays are very similar to python's list, but only allow one type of object (int, str, float, etc)\n",
    "\n",
    "We can define a numpy array with:\n",
    "`np.array([data])`"
   ]
  },
  {
   "cell_type": "code",
   "execution_count": 2,
   "metadata": {},
   "outputs": [
    {
     "name": "stdout",
     "output_type": "stream",
     "text": [
      "**********\n",
      "Arrays vs Lists:\n",
      "[1 2 3]\n",
      "int64\n",
      "float64\n",
      "<U21\n",
      "object\n"
     ]
    }
   ],
   "source": [
    "# Numpy Array\n",
    "\n",
    "import numpy as np\n",
    "print(\"**********\\nArrays vs Lists:\")\n",
    "# Numpy arrays are very similar to our standard list in form, but have a lot more functionality\n",
    "arr = np.array([1, 2, 3]) # For a numpy array, we pass a list of elements to the np.array() method\n",
    "print(arr)\n",
    "\n",
    "# But numpy values are homogeneous, menaing it can only store one type of object\n",
    "ints = np.array([1,2,3])\n",
    "floats = np.array([1.1, 2.2, 3])\n",
    "strs = np.array([1,2,3, 'hello'])\n",
    "objs = np.array([1,2,3, 'hello', {}])\n",
    "print(ints.dtype)\n",
    "print(floats.dtype)\n",
    "print(strs.dtype)\n",
    "print(objs.dtype)\n",
    "# Reason for this is that numpy is all about operations on vectors/matrices\n",
    "# In other words, Numpy is about linear algebra"
   ]
  },
  {
   "cell_type": "markdown",
   "metadata": {},
   "source": [
    "## Multi-Dimensional Arrays/Matrices\n",
    "One of the areas in which Numpy provides benefit over a python list is in the creation of multidimensional matrices.\n",
    "\n",
    "Each set of **[ ]**s indicates a new dimension to our data."
   ]
  },
  {
   "cell_type": "code",
   "execution_count": 3,
   "metadata": {},
   "outputs": [
    {
     "name": "stdout",
     "output_type": "stream",
     "text": [
      "**********\n",
      "Multidimensional Arrays:\n",
      "[[1 2 3]\n",
      " [4 5 6]]\n",
      "\n",
      " Value in first row, first col = 1\n",
      "\n",
      "**********\n",
      "3d Array:\n",
      "[[[ 1  2  3]\n",
      "  [ 4  5  6]\n",
      "  [ 7  8  9]]\n",
      "\n",
      " [[10 11 12]\n",
      "  [13 14 15]\n",
      "  [16 17 18]]]\n",
      "\n",
      "Value in 2nd set, first row, third col = 12\n"
     ]
    }
   ],
   "source": [
    "# Multidimensional Array Objects\n",
    "\n",
    "import numpy as np\n",
    "print(\"**********\\nMultidimensional Arrays:\")\n",
    "# Comma seperated lists within lists create new dimensions of the data\n",
    "arr = np.array([[1, 2, 3],\n",
    "            [4, 5, 6]])\n",
    "print(arr)\n",
    "# It is multidimensional meaning you need multiple coordinates to access a point\n",
    "print(\"\\n Value in first row, first col = {}\".format(arr[0][0]))\n",
    "\n",
    "print(\"\\n**********\\n3d Array:\")\n",
    "# We add an index for each dimension created\n",
    "arr3d = np.array([[[1,2,3],\n",
    "                 [4,5,6],\n",
    "                 [7,8,9]],\n",
    "                  \n",
    "                [[10,11,12],\n",
    "                [13,14,15],\n",
    "                [16,17,18]]])\n",
    "print(arr3d)\n",
    "print(\"\\nValue in 2nd set, first row, third col = {}\".format(arr3d[1][0][2]))\n",
    "# Actually not really different than if we made a multidimensional list, but more common in Numpy\n"
   ]
  },
  {
   "cell_type": "markdown",
   "metadata": {},
   "source": [
    "### Matrix Shape\n",
    "To easily see the dimensions of the matrices that we create we can call **shape**\n",
    "\n",
    "`arr.shape()`"
   ]
  },
  {
   "cell_type": "code",
   "execution_count": 4,
   "metadata": {},
   "outputs": [
    {
     "name": "stdout",
     "output_type": "stream",
     "text": [
      "(2, 3, 3)\n",
      "arr3d has 2, or 2, elements in the first dimension\n"
     ]
    }
   ],
   "source": [
    "# Viewing the shape of our array\n",
    "\n",
    "print(arr3d.shape) # The shape attribute of an array tells us its dimensions\n",
    "\n",
    "# The shape tells us, in descending order, the number of elements at each dimension\n",
    "print(f'arr3d has {arr3d.shape[0]}, or {len(arr3d)}, elements in the first dimension')\n",
    "\n",
    "# np_array.shape is a great way for understanding the format of the data you are working with"
   ]
  },
  {
   "cell_type": "markdown",
   "metadata": {},
   "source": [
    "## Reshaping our Matrices\n",
    "\n",
    "It is very commmon that we may need to reshape our data - change it's dimensions.\n",
    "\n",
    "We can easily do this with `arr.shape = (new_shape)` or `new_arr = arr.reshape(new_shape)`. The major difference between the two is that `arr.shape` will alter the current array, while `arr.reshape()` generates a new array."
   ]
  },
  {
   "cell_type": "code",
   "execution_count": 7,
   "metadata": {},
   "outputs": [
    {
     "name": "stdout",
     "output_type": "stream",
     "text": [
      "**********\n",
      "Multidimensional Arrays:\n",
      "2D:\n",
      "Array 1:\n",
      "[[1 2 3]\n",
      " [4 5 6]\n",
      " [7 8 9]]\n",
      "Array 1:\n",
      "[[1 2 3]\n",
      " [4 5 6]\n",
      " [7 8 9]]\n",
      "\n",
      "1D:\n",
      "[1 2 3 4 5 6 7 8 9]\n",
      "\n",
      "3D:\n",
      "[[[ 0  1  2]\n",
      "  [ 3  4  5]\n",
      "  [ 6  7  8]]\n",
      "\n",
      " [[ 9 10 11]\n",
      "  [12 13 14]\n",
      "  [15 16 17]]\n",
      "\n",
      " [[18 19 20]\n",
      "  [21 22 23]\n",
      "  [24 25 26]]]\n",
      "\n",
      "Error:\n",
      "cannot reshape array of size 27 into shape (2,)\n",
      "\n",
      " 2D Generalized:\n",
      "[[ 0  1  2  3  4  5  6  7  8]\n",
      " [ 9 10 11 12 13 14 15 16 17]\n",
      " [18 19 20 21 22 23 24 25 26]]\n"
     ]
    }
   ],
   "source": [
    "# Reshaping Arrays\n",
    "import numpy as np\n",
    "\n",
    "print(\"**********\\nMultidimensional Arrays:\")\n",
    "print(\"2D:\")\n",
    "arr = np.array([1,2,3,4,5,6,7,8,9])\n",
    "arr2 = arr.reshape(3,3)\n",
    "arr.shape = (3,3) # This lets us redefine the shape of the data\n",
    "print(f'Array 1:\\n{arr}')\n",
    "print(f'Array 1:\\n{arr2}')\n",
    "\n",
    "print(\"\\n1D:\")\n",
    "arr.shape = (9) #Can creat a 1D array\n",
    "print(arr)\n",
    "\n",
    "print(\"\\n3D:\")\n",
    "arr = np.array([list(range(27))])\n",
    "arr.shape = (3,3,3) #Think a (rubik's??) cube of data\n",
    "print(arr)\n",
    "\n",
    "try:\n",
    "    arr.shape = (2) #Issue if dimensions don't match up with array\n",
    "except Exception as err:\n",
    "    print(f'\\nError:\\n{err}')\n",
    "\n",
    "# We can pass in undefined size attributes though\n",
    "arr.shape = (3, -1)\n",
    "print(\"\\n 2D Generalized:\")\n",
    "print(arr)\n",
    "\n"
   ]
  },
  {
   "cell_type": "markdown",
   "metadata": {
    "collapsed": true
   },
   "source": [
    "## In class work"
   ]
  },
  {
   "cell_type": "code",
   "execution_count": 47,
   "metadata": {},
   "outputs": [
    {
     "name": "stdout",
     "output_type": "stream",
     "text": [
      "[0 1]\n",
      "[6 7]\n",
      "[12 13]\n",
      "[18 19]\n",
      "[24 25]\n",
      "[30 31]\n",
      "[36 37]\n",
      "[42 43]\n",
      "[48 49]\n",
      "[54 55]\n",
      "[60 61]\n",
      "[66 67]\n",
      "[72 73]\n",
      "[78 79]\n",
      "[84 85]\n",
      "[90 91]\n",
      "[96 97]\n",
      "[[ 0  1]\n",
      " [ 6  7]\n",
      " [12 13]\n",
      " [18 19]\n",
      " [24 25]\n",
      " [30 31]\n",
      " [36 37]\n",
      " [42 43]\n",
      " [48 49]\n",
      " [54 55]\n",
      " [60 61]\n",
      " [66 67]\n",
      " [72 73]\n",
      " [78 79]\n",
      " [84 85]\n",
      " [90 91]\n",
      " [96 97]]\n"
     ]
    }
   ],
   "source": [
    "#IN CLASS WORK\n",
    "\n",
    "\"\"\"Numpy array indexing works exactly like all indexing/splicing in python\n",
    "Take some time and play around with splicing multidimensional arrays\n",
    " - Can you get it to print out ever 3rd row of a (50, 2) array?\"\"\"\n",
    "\n",
    "arr = np.arange(100) # Creates an array based on range function - 0-100 in this case\n",
    "arr = arr.reshape(50, 2) # We reshape it to our (50, 2) setup\n",
    "for i in range(50):\n",
    "    if i %3 == 0:\n",
    "        print(arr[i])\n",
    "print(arr[::3])\n"
   ]
  },
  {
   "cell_type": "code",
   "execution_count": 48,
   "metadata": {},
   "outputs": [
    {
     "name": "stdout",
     "output_type": "stream",
     "text": [
      "[ 0  1  2  3  4  5  6  7  8  9 10 11 12 13 14 15 16 17 18 19 20 21 22 23]\n",
      "\n",
      "\n",
      "[[ 0  1  2  3  4  5  6  7  8  9 10 11]\n",
      " [12 13 14 15 16 17 18 19 20 21 22 23]]\n",
      "\n",
      "\n",
      "[[[ 0  1  2  3  4  5]\n",
      "  [ 6  7  8  9 10 11]]\n",
      "\n",
      " [[12 13 14 15 16 17]\n",
      "  [18 19 20 21 22 23]]]\n",
      "\n",
      "\n",
      "[[[[ 0  1  2]\n",
      "   [ 3  4  5]]\n",
      "\n",
      "  [[ 6  7  8]\n",
      "   [ 9 10 11]]]\n",
      "\n",
      "\n",
      " [[[12 13 14]\n",
      "   [15 16 17]]\n",
      "\n",
      "  [[18 19 20]\n",
      "   [21 22 23]]]]\n"
     ]
    }
   ],
   "source": [
    "#1D \n",
    "oneD = np.arange(24)\n",
    "print(oneD )\n",
    "print('\\n')\n",
    "twoD = oneD.reshape(2,12)\n",
    "print(twoD )\n",
    "print('\\n')\n",
    "threeD = oneD.reshape(2,2,6)\n",
    "print(threeD )\n",
    "print('\\n')\n",
    "fourD = oneD.reshape(2,2,2,3)\n",
    "print(fourD)"
   ]
  },
  {
   "cell_type": "markdown",
   "metadata": {},
   "source": [
    "## Array Slice\n",
    "We can take a slice of any array with simple indexing, just like a list.\n",
    "\n",
    "`arr_slice = arr[i:j]`"
   ]
  },
  {
   "cell_type": "code",
   "execution_count": 25,
   "metadata": {},
   "outputs": [
    {
     "name": "stdout",
     "output_type": "stream",
     "text": [
      "**********\n",
      "Altering a Slice:\n",
      "[3 4 5]\n",
      "[100   4   5]\n",
      "[  0   1   2 100   4   5   6   7   8   9]\n"
     ]
    }
   ],
   "source": [
    "# Altering a Slice\n",
    "\n",
    "import numpy as np\n",
    "print(\"**********\\nAltering a Slice:\")\n",
    "arr = np.arange(10)\n",
    "arr_slice = arr[3:6]\n",
    "print(arr_slice)\n",
    "arr_slice[0] = 100 # This updates the first element in arr_slice\n",
    "print(arr_slice)\n",
    "# What do you think this operation changes in arr?\n",
    "print(arr)\n",
    "\n",
    "# Remember a numpy variable points to a point in memory.\n",
    "# Thus a slice simply points to a specific portion of another array\n"
   ]
  },
  {
   "cell_type": "code",
   "execution_count": 28,
   "metadata": {},
   "outputs": [
    {
     "name": "stdout",
     "output_type": "stream",
     "text": [
      "[1 2 3]\n",
      "[1 2 3]\n",
      "[99  2  3]\n"
     ]
    }
   ],
   "source": [
    "a = np.array([1,2,3])\n",
    "b= a \n",
    "c= a.copy()\n",
    "\n",
    "c[0] = 99\n",
    "\n",
    "print(a)\n",
    "print(b)\n",
    "print(c)"
   ]
  },
  {
   "cell_type": "code",
   "execution_count": null,
   "metadata": {},
   "outputs": [],
   "source": []
  },
  {
   "cell_type": "markdown",
   "metadata": {},
   "source": [
    "## Creating Arrays\n",
    "There are a number of ways to create arrays. These are just a couple shortcuts to create arrays of information."
   ]
  },
  {
   "cell_type": "code",
   "execution_count": 29,
   "metadata": {},
   "outputs": [
    {
     "name": "stdout",
     "output_type": "stream",
     "text": [
      "\n",
      "**********\n",
      "Using Nested Lists:\n",
      "[[  1  24  54]\n",
      " [124  54   3]]\n",
      "\n",
      "**********\n",
      "Using Arange:\n",
      "[0 1 2 3 4 5 6 7 8 9]\n",
      "\n",
      "**********\n",
      "Using np.linspace:\n",
      "[ 0.   2.5  5.   7.5 10. ]\n"
     ]
    }
   ],
   "source": [
    "# Creating Arrays\n",
    "\n",
    "import numpy as np\n",
    "print(\"\\n**********\\nUsing Nested Lists:\")\n",
    "data = [[1, 24, 54],[124, 54, 3]] # Data for 2d array\n",
    "arr = np.array(data)\n",
    "print(arr)\n",
    "\n",
    "\n",
    "print(\"\\n**********\\nUsing Arange:\")\n",
    "arr = np.arange(10) # arange works a lot like list splicing (begin, end, jump)\n",
    "print(arr)\n",
    "\n",
    "print(\"\\n**********\\nUsing np.linspace:\")\n",
    "x, y, z = 0, 10, 5\n",
    "arr = np.linspace(x, y, z) # Creats an array of z equally spaced points between x and y\n",
    "print(arr)\n"
   ]
  },
  {
   "cell_type": "markdown",
   "metadata": {
    "collapsed": true
   },
   "source": [
    "### In class work"
   ]
  },
  {
   "cell_type": "code",
   "execution_count": 45,
   "metadata": {},
   "outputs": [
    {
     "name": "stdout",
     "output_type": "stream",
     "text": [
      "[[[ 2.  4.  6.]\n",
      "  [ 8. 10. 12.]\n",
      "  [14. 16. 18.]]\n",
      "\n",
      " [[20. 22. 24.]\n",
      "  [26. 28. 30.]\n",
      "  [32. 34. 36.]]\n",
      "\n",
      " [[38. 40. 42.]\n",
      "  [44. 46. 48.]\n",
      "  [50. 52. 54.]]]\n",
      "[  5.  53. 100.]\n"
     ]
    }
   ],
   "source": [
    "#Problem 1\n",
    "\"\"\"Create an 3-D array comprised of the first 27 even numbers\"\"\"\n",
    "q1_array = np.linspace(2,54,27)\n",
    "\n",
    "q1_array.shape=(3,3,3)\n",
    "print(q1_array)\n",
    "\n",
    "\n",
    "#Problem 2\n",
    "\"\"\"Create a function 'create_int_linspace' that takes in three integers (start, stop, and pts).\n",
    "The function should return np.linspace(start, stop, pts), but the result should only contain ints.\n",
    "If the given parameters won't return an array of integers, increase the stop parameter to the first value\n",
    "that will generate the required results\n",
    "\n",
    "Ex. np.linspace(5, 100,3) would normally return array([   5. ,   52.5,  100. ])\n",
    " instead we would want to increase 100 to 101 to get ([   5. ,   53,  101. ])\"\"\"\n",
    "\n",
    "import math\n",
    "\n",
    "def create_int_linspace(start, stop, pts):\n",
    "    new_arr = np.linspace(start,stop,pts)\n",
    "    for i in range(len(new_arr)):\n",
    "        new_arr[i] = math.ceil(new_arr[i])\n",
    "    return new_arr\n",
    "test_array = create_int_linspace(5,100,3)\n",
    "print(test_array)\n",
    "    "
   ]
  },
  {
   "cell_type": "markdown",
   "metadata": {},
   "source": [
    "## Empty Arrays\n",
    "Sometimes we may want to create an emtpy array with a given structure to load information in later."
   ]
  },
  {
   "cell_type": "code",
   "execution_count": 46,
   "metadata": {
    "scrolled": false
   },
   "outputs": [
    {
     "name": "stdout",
     "output_type": "stream",
     "text": [
      "**********\n",
      "Creating Array of zeroes:\n",
      "[0. 0. 0. 0. 0. 0. 0. 0. 0. 0.]\n",
      "\n",
      "**********\n",
      "Creating Array of x,y,... Dimensions:\n",
      "[[0. 0. 0.]\n",
      " [0. 0. 0.]\n",
      " [0. 0. 0.]\n",
      " [0. 0. 0.]\n",
      " [0. 0. 0.]]\n",
      "\n",
      "**********\n",
      "Filling with Ones and Random:\n",
      "[1. 1. 1. 1. 1.]\n",
      "[2. 2. 2. 2. 2.]\n",
      "\n",
      "Random results:\n",
      "[[[0.97066549 0.88301584 0.37797674]\n",
      "  [0.26214453 0.82122366 0.519255  ]\n",
      "  [0.9162835  0.40364323 0.90307602]]\n",
      "\n",
      " [[0.25714661 0.90587864 0.41668588]\n",
      "  [0.35480359 0.90122688 0.1332152 ]\n",
      "  [0.14555708 0.38650347 0.50329309]]\n",
      "\n",
      " [[0.17463299 0.91855977 0.48076387]\n",
      "  [0.4102437  0.9385907  0.31298526]\n",
      "  [0.57052562 0.27457101 0.56094977]]]\n"
     ]
    }
   ],
   "source": [
    "# Creating 'Empty Arrays\n",
    "\n",
    "import numpy as np\n",
    "print(\"**********\\nCreating Array of zeroes:\")\n",
    "# We don't always know what will be filling our arrays, or simply need a place holder\n",
    "z1 = np.zeros(10) # Create an array of x zeroes\n",
    "print(z1)\n",
    "\n",
    "print(\"\\n**********\\nCreating Array of x,y,... Dimensions:\")\n",
    "# We can also pass in a tuple for more dimensions\n",
    "z2 = np.zeros((5, 3))\n",
    "print(z2)\n",
    "\n",
    "print(\"\\n**********\\nFilling with Ones and Random:\")\n",
    "ones = np.ones(5)\n",
    "print(ones)\n",
    "twos = np.ones(5)*2\n",
    "print(twos)\n",
    "# We can also fill the array with random values\n",
    "# There are a number of random generators (from distributions, ranges, etc)\n",
    "rand = np.random.rand(3,3,3)\n",
    "print(\"\\nRandom results:\\n{}\".format(rand))\n"
   ]
  },
  {
   "cell_type": "markdown",
   "metadata": {},
   "source": [
    "## Random Arrays\n",
    "In addition to empty arrays, very commonly we will want to create arrays based on given probability distributions."
   ]
  },
  {
   "cell_type": "code",
   "execution_count": 49,
   "metadata": {},
   "outputs": [
    {
     "name": "stdout",
     "output_type": "stream",
     "text": [
      "**********\n",
      "Generating Data:\n",
      "**********\n",
      "numpy.random.rand():\n",
      "[[0.09048328 0.05806973 0.09516237]\n",
      " [0.84482755 0.81124861 0.39051952]\n",
      " [0.74580625 0.86288254 0.37306352]]\n",
      "**********\n",
      "numpy.random.randn():\n",
      "[[ 2.39359063  0.66308823 -1.3985827 ]\n",
      " [-1.01864884  1.54432627 -0.11853921]\n",
      " [-1.21789454 -1.04367488  1.71286397]]\n",
      "**********\n",
      "numpy.random.randn():\n",
      "[[4.00251772 7.10568292 8.67295702 5.93722233 3.78044957]\n",
      " [2.76749789 6.22212304 2.8398664  5.17081457 3.65501592]\n",
      " [4.98121212 3.19388865 3.44255854 4.4637659  6.53939344]\n",
      " [4.94289005 3.74605743 3.61790172 5.37144692 2.45881271]]\n",
      "**********\n",
      "numpy.random.randint():\n",
      "[[5 7 1 2 8]\n",
      " [9 4 2 8 6]\n",
      " [4 4 4 6 6]\n",
      " [5 3 7 8 0]]\n"
     ]
    }
   ],
   "source": [
    "# Generating Random Arrays:\n",
    "\n",
    "import numpy as np\n",
    "import numpy.random as rand\n",
    "\n",
    "print(\"**********\\nGenerating Data:\")\n",
    "# There are a ton of ways to generate data in numpy, but here are some examples (more at - https://docs.scipy.org/doc/numpy/reference/routines.random.html)\n",
    "\n",
    "print(\"**********\\nnumpy.random.rand():\")\n",
    "arr1 = rand.rand(3,3) # Random #'s in given shape, values [0,1)\n",
    "print(arr1)\n",
    "\n",
    "print(\"**********\\nnumpy.random.randn():\")\n",
    "arr1 = rand.randn(3,3) # Same as rand(), but follows the standard normal - mean:0, SD:1\n",
    "print(arr1)\n",
    "\n",
    "print(\"**********\\nnumpy.random.randn():\")\n",
    "arr1 = rand.normal(loc = 5, scale = 2, size = (4,5)) # Normal distribution - mean(loc):5, SD(scale):2\n",
    "print(arr1)\n",
    "\n",
    "\n",
    "print(\"**********\\nnumpy.random.randint():\")\n",
    "arr1 = rand.randint(0, 10, size = (4,5)) # Normal distribution - mean(loc):5, SD(scale):2\n",
    "print(arr1)\n",
    "\n",
    "\n",
    "# Take some time to generate a random array...\n"
   ]
  },
  {
   "cell_type": "markdown",
   "metadata": {},
   "source": [
    "### Why would we want empyt or randomly generated matrices?"
   ]
  },
  {
   "cell_type": "markdown",
   "metadata": {},
   "source": [
    "## Numpy Types"
   ]
  },
  {
   "cell_type": "code",
   "execution_count": 50,
   "metadata": {},
   "outputs": [
    {
     "name": "stdout",
     "output_type": "stream",
     "text": [
      "\n",
      "**********\n",
      "How Does Numpy Deal With Different Types:\n",
      "\n",
      "Printing arr1 and arr2:\n",
      "[4.         0.17339618 0.31061576]\n",
      "[4.         0.17339618 0.31061576]\n",
      "\n",
      "Printing arr1 and arr2:\n",
      "[4.         0.17339618 0.31061576]\n",
      "[4 0 0]\n",
      "\n",
      "The indexed values are stored in the same memory address???\n",
      "0x10dbebae0\n",
      "0x10dbebae0\n"
     ]
    }
   ],
   "source": [
    "# NumPY's Types and Shapes\n",
    "\n",
    "import numpy as np\n",
    "\n",
    "print(\"\\n**********\\nHow Does Numpy Deal With Different Types:\")\n",
    "# Sadly this is a bit complicated\n",
    "arr1 = np.random.rand(3)\n",
    "arr2 = arr1\n",
    "arr2[0] = 4\n",
    "# Numpy doesn't copy arrays when initializing new arrays\n",
    "print(\"\\nPrinting arr1 and arr2:\")\n",
    "print(arr1)\n",
    "print(arr2)\n",
    "\n",
    "# But it goes farther than that\n",
    "arr2 = arr1.astype(int) #astype is used to change the element types\n",
    "print(\"\\nPrinting arr1 and arr2:\")\n",
    "print(arr1)\n",
    "print(arr2)\n",
    "\n",
    "# While these look like completely different arrays....\n",
    "print(\"\\nThe indexed values are stored in the same memory address???\")\n",
    "print(hex(id(arr1[1]))) #id allows us to see where a variable is stored in memory\n",
    "print(hex(id(arr2[1])))\n"
   ]
  },
  {
   "cell_type": "markdown",
   "metadata": {},
   "source": [
    "**What is effectively going on is that Numpy simply provides different perspectives for the same data in \"raw\" memory. This approach means Numpy can define a variety of dtypes, slicing, etc. that simply applied to the same data in memory. This is what enables us to reshape and split and splice arrays with ease. But this means that we need to explicitly copy an array if we want to maniuplate the data.**"
   ]
  },
  {
   "cell_type": "markdown",
   "metadata": {},
   "source": [
    "## Copying Arrays"
   ]
  },
  {
   "cell_type": "code",
   "execution_count": 51,
   "metadata": {},
   "outputs": [
    {
     "name": "stdout",
     "output_type": "stream",
     "text": [
      "Array 1: [2 0 0 0 0]\n",
      "Array 2: [100   0   0   0   0]\n"
     ]
    },
    {
     "data": {
      "text/plain": [
       "\"Notice that it keeps the general structure, but the values now point to different\\npoints in memory, as they don't update each other.\""
      ]
     },
     "execution_count": 51,
     "metadata": {},
     "output_type": "execute_result"
    }
   ],
   "source": [
    "# Copying arrays\n",
    "\n",
    "arr1 = np.random.randint(3, size=(5,))\n",
    "arr2 = arr1.copy()\n",
    "\n",
    "arr2[0] = 100\n",
    "\n",
    "print(f'Array 1: {arr1}')\n",
    "print(f'Array 2: {arr2}')\n",
    "\n",
    "\"\"\"Notice that it keeps the general structure, but the values now point to different\n",
    "points in memory, as they don't update each other.\"\"\""
   ]
  }
 ],
 "metadata": {
  "kernelspec": {
   "display_name": "Python 3",
   "language": "python",
   "name": "python3"
  },
  "language_info": {
   "codemirror_mode": {
    "name": "ipython",
    "version": 3
   },
   "file_extension": ".py",
   "mimetype": "text/x-python",
   "name": "python",
   "nbconvert_exporter": "python",
   "pygments_lexer": "ipython3",
   "version": "3.6.5"
  }
 },
 "nbformat": 4,
 "nbformat_minor": 2
}
