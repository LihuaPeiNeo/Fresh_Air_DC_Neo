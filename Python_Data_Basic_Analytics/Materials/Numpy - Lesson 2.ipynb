{
 "cells": [
  {
   "cell_type": "markdown",
   "metadata": {},
   "source": [
    "# Numpy Continued"
   ]
  },
  {
   "cell_type": "markdown",
   "metadata": {},
   "source": [
    "## Searching for Conditions\n",
    "**np.where()** allows us to search arrays for ceratin conditions\n",
    "\n",
    "Being able to set values based on conditionals can be a great way to generate labeled data for training a model and/or used to define features within your training data."
   ]
  },
  {
   "cell_type": "code",
   "execution_count": 2,
   "metadata": {},
   "outputs": [
    {
     "name": "stdout",
     "output_type": "stream",
     "text": [
      "(array([5, 6, 7, 8, 9]),)\n",
      "\n",
      "Setting values with np.where():\n",
      "[-1 -1 -1 -1 -1  1  1  1  1  1]\n"
     ]
    }
   ],
   "source": [
    "import numpy as np\n",
    "arr1 = np.arange(10)\n",
    "print(np.where(arr1 > 4)) # np.where lets us apply conditionals onto arrays\n",
    "\n",
    "# np.where can also take two parameters defining values for True and False elements\n",
    "# np.where(condition, x, y) - where true put x, where false put y\n",
    "print(\"\\nSetting values with np.where():\")\n",
    "print(np.where(arr1 > 4, 1, -1))\n"
   ]
  },
  {
   "cell_type": "markdown",
   "metadata": {},
   "source": [
    "## Finding Values\n",
    "On top of indexing, we can also use boolean arrays to subset an array.\n",
    "\n",
    "The boolean array should be the same size as the array your using it against."
   ]
  },
  {
   "cell_type": "code",
   "execution_count": 3,
   "metadata": {},
   "outputs": [
    {
     "name": "stdout",
     "output_type": "stream",
     "text": [
      "[5 6 7 8 9]\n",
      "\n",
      "Setting values using boolean array:\n",
      "[ 0  1  0  3  0  5  0  7  0  9  0 11  0 13  0 15  0 17  0 19  0 21  0 23\n",
      "  0 25  0 27  0 29  0 31  0 33  0 35  0 37  0 39  0 41  0 43  0 45  0 47\n",
      "  0 49  0 51  0 53  0 55  0 57  0 59  0 61  0 63  0 65  0 67  0 69  0 71\n",
      "  0 73  0 75  0 77  0 79  0 81  0 83  0 85  0 87  0 89  0 91  0 93  0 95\n",
      "  0 97  0 99]\n"
     ]
    }
   ],
   "source": [
    "import numpy as np\n",
    "\n",
    "arr1 = np.arange(10)\n",
    "print(arr1[arr1 > 4])\n",
    "\n",
    "print(\"\\nSetting values using boolean array:\")\n",
    "arr1 = np.arange(100)\n",
    "arr1[arr1 % 2 == 0] = 0 #S ince 'arr1 % 2 == 0' returns a True/False list, it can be used to index\n",
    "print(arr1)\n"
   ]
  },
  {
   "cell_type": "markdown",
   "metadata": {
    "collapsed": true
   },
   "source": [
    "### In class work"
   ]
  },
  {
   "cell_type": "code",
   "execution_count": 8,
   "metadata": {},
   "outputs": [
    {
     "name": "stdout",
     "output_type": "stream",
     "text": [
      "[1 1 1 1 1 0 1 1 1 1 1 1 1 1 0 1 1 1 1 1 1 1 0 0 1 1 1 1 1 1 1 1 1 1 1 1 0\n",
      " 1 0 1 1 1 1 1 1 1 1 1 1 1 0 1 1 0 0 0 1 1 1 1 1 0 1 1 1 0 1 1 1 1 1 1 0 1\n",
      " 1 1 0 1 1 1 1 1 1 1 0 1 1 0 1 1 1 1 1 1 1 0 0 1 1 1]\n"
     ]
    },
    {
     "data": {
      "text/plain": [
       "'Result should match:\\n[1, 1, 0, 1, 1, 0, 1, 1, 1, 0, 1, 1, 1, 1, 0, 1, 1, 1,\\n1, 1, 1, 0, 0, 0, 1, 1, 1, 1, 1, 1, 1, 1, 1, 1, 1, 1,\\n0, 1, 1, 1, 0, 1, 1, 1, 1, 1, 1, 1, 1, 1, 0, 1, 1, 0,\\n0, 0, 1, 1, 1, 1, 1, 0, 1, 1, 1, 0, 1, 1, 1, 1, 1, 1,\\n0, 1, 1, 1, 0, 1, 1, 1, 1, 1, 1, 1, 0, 1, 1, 0, 0, 1,\\n1, 1, 1, 1, 0, 0, 0, 1, 1, 1]\\n'"
      ]
     },
     "execution_count": 8,
     "metadata": {},
     "output_type": "execute_result"
    }
   ],
   "source": [
    "#Problem 1\n",
    "#Given the random dataset below, where the sqrt(abs(x + 10)) < 5 put a zero otherwise put a 1\n",
    "import numpy as np\n",
    "\n",
    "np.random.seed(1) #Setting the seed ensures the same random numbers are always generated\n",
    "arr1 = np.random.randint(-100, 100, size = 100)\n",
    "\n",
    "\n",
    "print(np.where((abs(arr1)**0.5 < 5),0,1))\n",
    "\n",
    "\"\"\"Result should match:\n",
    "[1, 1, 0, 1, 1, 0, 1, 1, 1, 0, 1, 1, 1, 1, 0, 1, 1, 1,\n",
    "1, 1, 1, 0, 0, 0, 1, 1, 1, 1, 1, 1, 1, 1, 1, 1, 1, 1,\n",
    "0, 1, 1, 1, 0, 1, 1, 1, 1, 1, 1, 1, 1, 1, 0, 1, 1, 0,\n",
    "0, 0, 1, 1, 1, 1, 1, 0, 1, 1, 1, 0, 1, 1, 1, 1, 1, 1,\n",
    "0, 1, 1, 1, 0, 1, 1, 1, 1, 1, 1, 1, 0, 1, 1, 0, 0, 1,\n",
    "1, 1, 1, 1, 0, 0, 0, 1, 1, 1]\n",
    "\"\"\"\n"
   ]
  },
  {
   "cell_type": "markdown",
   "metadata": {},
   "source": [
    "## Vectorized Operations\n",
    "Vecotrization is a process where we apply a scalar value (single value) across a vector/matrix. This means we can quickly add/subtract/multiply/divide a single value across an entire vector/matrix without having to loop through the elements."
   ]
  },
  {
   "cell_type": "code",
   "execution_count": 3,
   "metadata": {},
   "outputs": [
    {
     "name": "stdout",
     "output_type": "stream",
     "text": [
      "**********\n",
      "Vectorized Operations:\n",
      "[[ 6  7  8]\n",
      " [ 9 10 11]]\n",
      "\n",
      "**********\n",
      "This works on a number of operations:\n",
      "[[ 3  6  9]\n",
      " [12 15 18]\n",
      " [21 24 27]]\n"
     ]
    }
   ],
   "source": [
    "# Vectorization and Broadcasting\n",
    "\n",
    "import numpy as np\n",
    "print(\"**********\\nVectorized Operations:\")\n",
    "# Numpy arrays provide an ability to perform batch operations\n",
    "arr = np.array([[1, 2, 3],\n",
    "                [4, 5, 6]])\n",
    "\n",
    "arr1 = arr + 5 # an operation on the array affects all elements\n",
    "print(arr1)\n",
    "\n",
    "print(\"\\n**********\\nThis works on a number of operations:\")\n",
    "arr2d = np.array([[1,2,3],\n",
    "                [4,5,6],\n",
    "                [7,8,9]])\n",
    "arr2d *= 3\n",
    "print(arr2d)"
   ]
  },
  {
   "cell_type": "markdown",
   "metadata": {},
   "source": [
    "## Vectorization of Functions\n",
    "We can also vectorize ceratin functions for certain speedups. There are a number of functional operations that are vectorized for numpy arrays. These function are called unary ufuncs (universal functions), I've listed the more common ones below:\n",
    " - abs - absolute\n",
    " - sqrt - square root\n",
    " - square\n",
    " - exp - e^x for each element\n",
    " - logs\n",
    " - sign - negative/positive/zero\n",
    " - ceil/floor\n",
    " - isnan\n",
    " - isfinite\n",
    " - isinf"
   ]
  },
  {
   "cell_type": "code",
   "execution_count": 4,
   "metadata": {},
   "outputs": [
    {
     "name": "stdout",
     "output_type": "stream",
     "text": [
      "Array 1:\n",
      "[-0.1203552  -1.94411358 -1.24269682 -0.96788593  1.23273328 -0.29232845\n",
      "  1.16124405 -0.57457224  0.69944595 -0.38438023]\n",
      "\n",
      "abs(Array 1):\n",
      "[0.1203552  1.94411358 1.24269682 0.96788593 1.23273328 0.29232845\n",
      " 1.16124405 0.57457224 0.69944595 0.38438023]\n",
      "\n",
      "0-9 squared\n",
      "[ 0  1  4  9 16 25 36 49 64 81]\n"
     ]
    }
   ],
   "source": [
    "# Vectorized Functions - Unary ufuncs\n",
    "\n",
    "\"\"\"There are a number of functional operations that are vectorized for numpy arrays.\n",
    "These function are called unary ufuncs (universal functions), I've listed the more common ones below\n",
    "    abs - absolute\n",
    "    sqrt - square root\n",
    "    square\n",
    "    exp - e^x for each element\n",
    "    logs\n",
    "    sign - negative/positive/zero\n",
    "    ceil/floor\n",
    "    isnan\n",
    "    isfinite\n",
    "    isinf\n",
    "\"\"\"\n",
    "import numpy as np\n",
    "\n",
    "arr1 = np.random.normal(size = 10)\n",
    "print(\"Array 1:\")\n",
    "print(arr1)\n",
    "print(\"\\nabs(Array 1):\")\n",
    "print(abs(arr1))\n",
    "\n",
    "arr1 = np.arange(10)\n",
    "print(\"\\n0-9 squared\")\n",
    "print(np.square(arr1))\n",
    "\n",
    "\n",
    "# Try out some of the other unary functions\n"
   ]
  },
  {
   "cell_type": "markdown",
   "metadata": {},
   "source": [
    "## Element-to-Element Operations\n",
    "We can also do elemenwise operations if the arrays are the same shape"
   ]
  },
  {
   "cell_type": "code",
   "execution_count": 5,
   "metadata": {},
   "outputs": [
    {
     "name": "stdout",
     "output_type": "stream",
     "text": [
      "\n",
      "Can also do this on array-to-array operations\n",
      "[[ 2  5  8]\n",
      " [10 13 16]\n",
      " [18 21 24]]\n"
     ]
    }
   ],
   "source": [
    "print(\"\\nCan also do this on array-to-array operations\")\n",
    "arr2 = np.array([[1,1,1],\n",
    "                 [2,2,2],\n",
    "                 [3,3,3]])\n",
    "\n",
    "print(arr2d - arr2) # Matrix subtraction\n",
    "#print(arr1 - arr2) - won't work, as they are not the same size"
   ]
  },
  {
   "cell_type": "code",
   "execution_count": 6,
   "metadata": {},
   "outputs": [
    {
     "name": "stdout",
     "output_type": "stream",
     "text": [
      "Array1:\n",
      "[[0 1 2]\n",
      " [3 4 5]\n",
      " [6 7 8]]\n",
      "Array2:\n",
      "[[0 1 2 3 4]\n",
      " [5 6 7 8 9]]\n"
     ]
    },
    {
     "ename": "ValueError",
     "evalue": "operands could not be broadcast together with shapes (3,3) (2,5) ",
     "output_type": "error",
     "traceback": [
      "\u001b[0;31m---------------------------------------------------------------------------\u001b[0m",
      "\u001b[0;31mValueError\u001b[0m                                Traceback (most recent call last)",
      "\u001b[0;32m<ipython-input-6-e21f45e51a2e>\u001b[0m in \u001b[0;36m<module>\u001b[0;34m()\u001b[0m\n\u001b[1;32m      6\u001b[0m \u001b[0;34m\u001b[0m\u001b[0m\n\u001b[1;32m      7\u001b[0m \u001b[0;31m# Won't work as we have different shapes\u001b[0m\u001b[0;34m\u001b[0m\u001b[0;34m\u001b[0m\u001b[0m\n\u001b[0;32m----> 8\u001b[0;31m \u001b[0marr3\u001b[0m \u001b[0;34m=\u001b[0m \u001b[0marr1\u001b[0m\u001b[0;34m-\u001b[0m\u001b[0marr2\u001b[0m\u001b[0;34m\u001b[0m\u001b[0m\n\u001b[0m\u001b[1;32m      9\u001b[0m \u001b[0mprint\u001b[0m\u001b[0;34m(\u001b[0m\u001b[0marr3\u001b[0m\u001b[0;34m)\u001b[0m\u001b[0;34m\u001b[0m\u001b[0m\n",
      "\u001b[0;31mValueError\u001b[0m: operands could not be broadcast together with shapes (3,3) (2,5) "
     ]
    }
   ],
   "source": [
    "arr1 = np.arange(9).reshape(3,3)\n",
    "arr2 = np.arange(10).reshape(2, 5)\n",
    "\n",
    "print(f\"Array1:\\n{arr1}\")\n",
    "print(f\"Array2:\\n{arr2}\")\n",
    "\n",
    "# Won't work as we have different shapes\n",
    "arr3 = arr1-arr2\n",
    "print(arr3)"
   ]
  },
  {
   "cell_type": "markdown",
   "metadata": {},
   "source": [
    "## Broadcasting\n",
    "Sometimes, when we don't have arrays with the same shape, we can still do element-wise/scalar operations. This is due to broadcasting, where we can broadcast an array with at least one less dimension on another array."
   ]
  },
  {
   "cell_type": "code",
   "execution_count": 8,
   "metadata": {},
   "outputs": [
    {
     "name": "stdout",
     "output_type": "stream",
     "text": [
      "\n",
      "**********\n",
      "We can broadcast compatibaly shaped arrays:\n",
      "[[ 3  4  3]\n",
      " [12 10  6]\n",
      " [21 16  9]]\n",
      "We have a (3, 3) and (3,)\n",
      "\n",
      "**********\n",
      "Looking at more than two dimensions:\n",
      "[[[ 0  1  2]\n",
      "  [ 3  4  5]\n",
      "  [ 6  7  8]]\n",
      "\n",
      " [[ 9 10 11]\n",
      "  [12 13 14]\n",
      "  [15 16 17]]\n",
      "\n",
      " [[18 19 20]\n",
      "  [21 22 23]\n",
      "  [24 25 26]]]\n",
      "Sharing two dimension:\n",
      "[[[ 0  0  0]\n",
      "  [ 0  0  0]\n",
      "  [ 0  0  0]]\n",
      "\n",
      " [[ 9  9  9]\n",
      "  [ 9  9  9]\n",
      "  [ 9  9  9]]\n",
      "\n",
      " [[18 18 18]\n",
      "  [18 18 18]\n",
      "  [18 18 18]]]\n",
      "\n",
      "Sharing one dimension:\n",
      "[[[ 0  1  4]\n",
      "  [ 0  4 10]\n",
      "  [ 0  7 16]]\n",
      "\n",
      " [[ 0 10 22]\n",
      "  [ 0 13 28]\n",
      "  [ 0 16 34]]\n",
      "\n",
      " [[ 0 19 40]\n",
      "  [ 0 22 46]\n",
      "  [ 0 25 52]]]\n"
     ]
    }
   ],
   "source": [
    "# Broadcasting across slices\n",
    "\n",
    "print(\"\\n**********\\nWe can broadcast compatibaly shaped arrays:\")\n",
    "arr2d = np.array([[1,2,3],\n",
    "                [4,5,6],\n",
    "                [7,8,9]])\n",
    "tmp_array = np.array([3,2,1])\n",
    "arr2d = arr2d * tmp_array # 3x3 * 3(3x1)\n",
    "print(arr2d)\n",
    "\n",
    "# This works because they share a commonly sized dimension\n",
    "print(f'We have a {arr2d.shape} and {tmp_array.shape}')\n",
    "\n",
    "print(\"\\n**********\\nLooking at more than two dimensions:\")\n",
    "arr2d = np.arange(27).reshape(3,3,3)\n",
    "tmp_array = np.arange(9).reshape(3,3)\n",
    "tmp_array2 = np.arange(3).reshape(1,3)\n",
    "\n",
    "print(arr2d)\n",
    "print(\"Sharing two dimension:\")\n",
    "print(arr2d - tmp_array)\n",
    "print(\"\\nSharing one dimension:\")\n",
    "print(arr2d * tmp_array2)"
   ]
  },
  {
   "cell_type": "markdown",
   "metadata": {},
   "source": [
    "## Nan or Not a Number\n",
    "It isn't uncommon in analytics that we run into a situation where we don't have a valid number to work with, so Numpy provides a specific type to designate that a value doesn't exist compared to a zero or null value.\n",
    "\n",
    "**Can anyone give an example of why this might occur?**"
   ]
  },
  {
   "cell_type": "code",
   "execution_count": null,
   "metadata": {},
   "outputs": [],
   "source": [
    "# nan or Not a Number:\n",
    "\n",
    "print(\"**********\\nNan:\")\n",
    "# Numpy introduces a type called nan (not a number), usually for missing or NA datapoints\n",
    "print(np.nan == None)\n",
    "print(np.nan == np.nan) # What?!\n",
    "print(np.isnan(np.nan)) # Need to use np.isnan() to check for nan types, luckily it's vectorized\n",
    "\n",
    "arr1 = np.arange(9)\n",
    "# arr1 = arr1.astype('float32') # We can force a type conversion on data using astype()\n",
    "print(arr1.dtype)\n",
    "arr1[5] = np.nan # This will fail if the dtype is not float (np.nan only exists with floats)\n",
    "print(np.isnan(arr1))\n"
   ]
  },
  {
   "cell_type": "markdown",
   "metadata": {},
   "source": [
    "## Infinity\n",
    "Sometimes we run into situations were we have infinitie values (think functions with asymptotes)"
   ]
  },
  {
   "cell_type": "code",
   "execution_count": null,
   "metadata": {},
   "outputs": [],
   "source": [
    "# Finite and Infinite\n",
    "\n",
    "import numpy as np\n",
    "\n",
    "print(\"**********\\nDividing by zero, and what it creates:\")\n",
    "arr1 = np.arange(10)\n",
    "inf = arr1/0 # Uh-oh, this is going to create some warnings\n",
    "print(inf) # Notice 0/0 is nan, doesn't exist\n",
    "\n",
    "print(\"**********\\nChecking for infinities:\")\n",
    "inf[9] = 10 # Lets set the last index to an integer\n",
    "print(np.isinf(inf)) # Notice both np.nan and 10 are not infinite\n",
    "\n",
    "# np.inf is useful for setting maxes or mins when working with data\n",
    "\"\"\"Example comparing distances between datapoints, we don't know the minimum distance we would see.\n",
    "So if we are keeping track of the minimum it is easy to set it to np.inf and update for each element\n",
    "less than the current\"\"\"\n",
    "\n"
   ]
  },
  {
   "cell_type": "markdown",
   "metadata": {},
   "source": [
    "## Statistical Operations"
   ]
  },
  {
   "cell_type": "code",
   "execution_count": null,
   "metadata": {},
   "outputs": [],
   "source": [
    "# Mathematical and Statistical Methods\n",
    "\n",
    "import numpy as np\n",
    "import numpy.random as rand\n",
    "\n",
    "print(\"**********\\nUseful Math/Stats Functions:\")\n",
    "arr1 = rand.normal(loc = 10, scale = 3, size = 1000)\n",
    "arr1_mean = np.mean(arr1) #These functions are vectorized, i.e. designed and optimized for array operations\n",
    "arr1_sd = np.std(arr1)\n",
    "arr1_var = np.var(arr1)\n",
    "arr1_25th = np.percentile(arr1, 25)\n",
    "print(f\"Our mean is {arr1_mean}, which should be close to 10 (our loc)\")\n",
    "print(f\"Our sd is {arr1_sd}, which should be close to 3 (our scale)\")\n",
    "print(f\"Our var is {arr1_var}, which should be close to the square of our sd {np.square(3)}\")\n",
    "print(f\"Our 25th percentile is - {arr1_25th}\")\n",
    "\n"
   ]
  },
  {
   "cell_type": "code",
   "execution_count": null,
   "metadata": {},
   "outputs": [],
   "source": [
    "arr1 = rand.normal(loc = 10, scale = 3, size = (100, 10))\n",
    "arr1_mean = np.mean(arr1) #These functions are vectorized, i.e. designed and optimized for array operations\n",
    "arr1_col_mean = np.mean(arr1, axis=0)\n",
    "arr1_row_mean = np.mean(arr1, axis=1)\n",
    "\n",
    "print(arr1_mean)\n",
    "print(f\"\\nColumn-wise mean:\\n{arr1_col_mean}\")\n",
    "print(f\"\\nRow-wise mean:\\n{arr1_row_mean}\")"
   ]
  },
  {
   "cell_type": "code",
   "execution_count": null,
   "metadata": {},
   "outputs": [],
   "source": [
    "#Problem 1\n",
    "\"\"\"Generate a random array of data. Compute the mean using python's standard libraries (no numpy)\n",
    "and compare the result with np.mean()\"\"\"\n",
    "\n"
   ]
  }
 ],
 "metadata": {
  "kernelspec": {
   "display_name": "Python 3",
   "language": "python",
   "name": "python3"
  },
  "language_info": {
   "codemirror_mode": {
    "name": "ipython",
    "version": 3
   },
   "file_extension": ".py",
   "mimetype": "text/x-python",
   "name": "python",
   "nbconvert_exporter": "python",
   "pygments_lexer": "ipython3",
   "version": "3.6.5"
  }
 },
 "nbformat": 4,
 "nbformat_minor": 2
}
